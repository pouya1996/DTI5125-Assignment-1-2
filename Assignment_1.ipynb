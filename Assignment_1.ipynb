{
  "nbformat": 4,
  "nbformat_minor": 0,
  "metadata": {
    "colab": {
      "provenance": [],
      "authorship_tag": "ABX9TyMt9uITbGwIgbEkCPD5hP8V"
    },
    "kernelspec": {
      "name": "python3",
      "display_name": "Python 3"
    },
    "language_info": {
      "name": "python"
    }
  },
  "cells": [
    {
      "cell_type": "markdown",
      "source": [
        "# Expressive Words\n",
        "\n",
        "This Python function checks how many words from a list are \"stretchy\" with respect to a given reference string. A word is considered \"stretchy\" if each group of consecutive identical characters in the reference string can be contracted (or slightly expanded up to the group size) to match the same group in the candidate word.\n",
        "\n",
        "## How It Works\n",
        "\n",
        "1. **Group Characters**  \n",
        "   The reference string `S` is broken into groups of consecutive identical characters. For example, `\"heeellooo\"` becomes:\n",
        "\n",
        "   ```\n",
        "   [('h', 1), ('e', 3), ('l', 2), ('o', 3)]\n",
        "   ```\n",
        "\n",
        "2. **Build a Regex Pattern**  \n",
        "For each group:\n",
        "- If the group length is less than 3, the pattern requires exactly that many characters.\n",
        "- If the group length is 3 or more, the pattern allows between 1 and the group length for that character.  \n",
        "So for `('e', 3)`, the pattern becomes `e{1,3}`.\n",
        "\n",
        "3. **Match Each Word**  \n",
        "Every word in `words` is tested against this compiled pattern. If a word matches, it means it can be derived from `S` by contracting or slightly expanding the character groups (up to the original count in `S`).\n",
        "\n",
        "## Running the Code\n",
        "\n",
        "1. Copy the function into a Python file.\n",
        "2. Provide a reference string `S` and a list of candidate words `words`.\n",
        "3. Call the function `expressiveWords(S, words)` to determine how many stretchy words match the reference string.\n",
        "\n",
        "For example:\n",
        "- Reference String: `\"heeellooo\"`\n",
        "- Words: `[\"hello\", \"hi\", \"helo\"]`\n",
        "- Output: `1` (Only `\"hello\"` matches as stretchy.)"
      ],
      "metadata": {
        "id": "X6x7VKiX1P5k"
      }
    },
    {
      "cell_type": "code",
      "source": [
        "import re\n",
        "\n",
        "def expressiveWords(S, words):\n",
        "\n",
        "    #Step 1: A small function to get [(char, count), ...]\n",
        "    def get_groups(st):\n",
        "        return [(m.group(1)[0], len(m.group(1)))\n",
        "                for m in re.finditer(r'((.)\\2*)', st)]\n",
        "\n",
        "    s_groups = get_groups(S)  # e.g. [('h',1), ('e',3), ('l',2), ('o',3)]\n",
        "\n",
        "    # Step 2: Build a pattern from s_groups\n",
        "    pattern_parts = []\n",
        "    for c, length in s_groups:\n",
        "        if length < 3:\n",
        "            # Must match exactly length times\n",
        "            part = f\"{c}{{{length}}}\"\n",
        "        else:\n",
        "            # Matches 1 up to length times\n",
        "            part = f\"{c}{{1,{length}}}\"\n",
        "        pattern_parts.append(part)\n",
        "\n",
        "    pattern = \"^\" + \"\".join(pattern_parts) + \"$\"\n",
        "\n",
        "    # Compile regex for checking matches later\n",
        "    regex = re.compile(pattern)\n",
        "\n",
        "    # Step 3: Check each word for match with the pattern\n",
        "    count_stretchy = 0\n",
        "    for w in words:\n",
        "        if regex.match(w):\n",
        "            count_stretchy += 1\n",
        "\n",
        "    return count_stretchy\n",
        "\n",
        "\n",
        "# Test with provided example:\n",
        "S = \"heeellooo\"\n",
        "words = [\"hello\", \"hi\", \"helo\"]\n",
        "print(expressiveWords(S, words))  # Expected output: 1"
      ],
      "metadata": {
        "colab": {
          "base_uri": "https://localhost:8080/"
        },
        "id": "5syaIrohQHQ3",
        "outputId": "e20c1f1c-1007-4b0b-bb0e-46c4221f377a"
      },
      "execution_count": 139,
      "outputs": [
        {
          "output_type": "stream",
          "name": "stdout",
          "text": [
            "1\n"
          ]
        }
      ]
    },
    {
      "cell_type": "code",
      "source": [],
      "metadata": {
        "id": "uK1wb7Nv0_UO"
      },
      "execution_count": null,
      "outputs": []
    }
  ]
}